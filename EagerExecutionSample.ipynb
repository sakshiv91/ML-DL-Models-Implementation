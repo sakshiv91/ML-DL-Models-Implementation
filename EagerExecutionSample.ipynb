{
 "cells": [
  {
   "cell_type": "code",
   "execution_count": 1,
   "metadata": {},
   "outputs": [],
   "source": [
    "import tensorflow as tf\n",
    "import tensorflow.contrib.eager as tfe\n",
    "tfe.enable_eager_execution()"
   ]
  },
  {
   "cell_type": "code",
   "execution_count": 2,
   "metadata": {},
   "outputs": [],
   "source": [
    "import time\n",
    "import matplotlib.pyplot as plt\n",
    "import utils\n",
    "%matplotlib inline"
   ]
  },
  {
   "cell_type": "code",
   "execution_count": 3,
   "metadata": {},
   "outputs": [],
   "source": [
    "data_file = 'data/birth_life_2010.txt'"
   ]
  },
  {
   "cell_type": "code",
   "execution_count": 4,
   "metadata": {},
   "outputs": [],
   "source": [
    "data, n_samples = utils.read_birth_life_data(data_file)"
   ]
  },
  {
   "cell_type": "code",
   "execution_count": 5,
   "metadata": {},
   "outputs": [],
   "source": [
    "dataset = tf.data.Dataset.from_tensor_slices((data[:, 0], data[:, 1]))"
   ]
  },
  {
   "cell_type": "code",
   "execution_count": 6,
   "metadata": {},
   "outputs": [],
   "source": [
    "w = tfe.Variable(0.0)\n",
    "b = tfe.Variable(0.0)"
   ]
  },
  {
   "cell_type": "code",
   "execution_count": 7,
   "metadata": {},
   "outputs": [],
   "source": [
    "def prediction(x):\n",
    "    return x*w + b"
   ]
  },
  {
   "cell_type": "code",
   "execution_count": 8,
   "metadata": {},
   "outputs": [],
   "source": [
    "def squared_loss(y, y_pred):\n",
    "    return (y - y_pred)**2\n",
    "    "
   ]
  },
  {
   "cell_type": "code",
   "execution_count": 9,
   "metadata": {},
   "outputs": [],
   "source": [
    "def hubber_loss(y, y_pred, m = 1.0):\n",
    "    t = y - y_pred\n",
    "    return t**2 if tf.abs(t) <=m else m*(2*tf.abs(t) - m)"
   ]
  },
  {
   "cell_type": "code",
   "execution_count": 10,
   "metadata": {},
   "outputs": [],
   "source": [
    "def train(loss_function):\n",
    "    print('Training model for loss function:' + loss_function.__name__)\n",
    "    optimizer  = tf.train.GradientDescentOptimizer(learning_rate=0.01)\n",
    "    def loss_function_example(x_i, y_i):\n",
    "        return loss_function(y_i, prediction(x_i))\n",
    "    grad = tfe.implicit_value_and_gradients(loss_function_example)\n",
    "    start = time.time()\n",
    "    for epoch in range(100):\n",
    "        total_loss = 0\n",
    "        for x_i, y_i in tfe.Iterator(dataset):\n",
    "            loss, gradients = grad(x_i, y_i)\n",
    "            optimizer.apply_gradients(gradients)\n",
    "            total_loss += loss\n",
    "        print('Epoch {0}: {1}'.format(epoch, total_loss / n_samples))\n",
    "    print('Took: %f seconds' % (time.time() - start))\n",
    "                \n",
    "            \n",
    "            "
   ]
  },
  {
   "cell_type": "code",
   "execution_count": 13,
   "metadata": {},
   "outputs": [
    {
     "name": "stdout",
     "output_type": "stream",
     "text": [
      "Training model for loss function:hubber_loss\n",
      "Epoch 0: 7.389145374298096\n",
      "Epoch 1: 7.389145374298096\n",
      "Epoch 2: 7.389145374298096\n",
      "Epoch 3: 7.389145374298096\n",
      "Epoch 4: 7.389145374298096\n",
      "Epoch 5: 7.389145374298096\n",
      "Epoch 6: 7.389145374298096\n",
      "Epoch 7: 7.389145374298096\n",
      "Epoch 8: 7.389145374298096\n",
      "Epoch 9: 7.389145374298096\n",
      "Epoch 10: 7.389145374298096\n",
      "Epoch 11: 7.389145374298096\n",
      "Epoch 12: 7.389145374298096\n",
      "Epoch 13: 7.389145374298096\n",
      "Epoch 14: 7.389145374298096\n",
      "Epoch 15: 7.389145374298096\n",
      "Epoch 16: 7.389145374298096\n",
      "Epoch 17: 7.389145374298096\n",
      "Epoch 18: 7.389145374298096\n",
      "Epoch 19: 7.389145374298096\n",
      "Epoch 20: 7.389145374298096\n",
      "Epoch 21: 7.389145374298096\n",
      "Epoch 22: 7.389145374298096\n",
      "Epoch 23: 7.389145374298096\n",
      "Epoch 24: 7.389145374298096\n",
      "Epoch 25: 7.389145374298096\n",
      "Epoch 26: 7.389145374298096\n",
      "Epoch 27: 7.389145374298096\n",
      "Epoch 28: 7.389145374298096\n",
      "Epoch 29: 7.389145374298096\n",
      "Epoch 30: 7.389145374298096\n",
      "Epoch 31: 7.389145374298096\n",
      "Epoch 32: 7.389145374298096\n",
      "Epoch 33: 7.389145374298096\n",
      "Epoch 34: 7.389145374298096\n",
      "Epoch 35: 7.389145374298096\n",
      "Epoch 36: 7.389145374298096\n",
      "Epoch 37: 7.389145374298096\n",
      "Epoch 38: 7.389145374298096\n",
      "Epoch 39: 7.389145374298096\n",
      "Epoch 40: 7.389145374298096\n",
      "Epoch 41: 7.389145374298096\n",
      "Epoch 42: 7.389145374298096\n",
      "Epoch 43: 7.389145374298096\n",
      "Epoch 44: 7.389145374298096\n",
      "Epoch 45: 7.389145374298096\n",
      "Epoch 46: 7.389145374298096\n",
      "Epoch 47: 7.389145374298096\n",
      "Epoch 48: 7.389145374298096\n",
      "Epoch 49: 7.389145374298096\n",
      "Epoch 50: 7.389145374298096\n",
      "Epoch 51: 7.389145374298096\n",
      "Epoch 52: 7.389145374298096\n",
      "Epoch 53: 7.389145374298096\n",
      "Epoch 54: 7.389145374298096\n",
      "Epoch 55: 7.389145374298096\n",
      "Epoch 56: 7.389145374298096\n",
      "Epoch 57: 7.389145374298096\n",
      "Epoch 58: 7.389145374298096\n",
      "Epoch 59: 7.389145374298096\n",
      "Epoch 60: 7.389145374298096\n",
      "Epoch 61: 7.389145374298096\n",
      "Epoch 62: 7.389145374298096\n",
      "Epoch 63: 7.389145374298096\n",
      "Epoch 64: 7.389145374298096\n",
      "Epoch 65: 7.389145374298096\n",
      "Epoch 66: 7.389145374298096\n",
      "Epoch 67: 7.389145374298096\n",
      "Epoch 68: 7.389145374298096\n",
      "Epoch 69: 7.389145374298096\n",
      "Epoch 70: 7.389145374298096\n",
      "Epoch 71: 7.389145374298096\n",
      "Epoch 72: 7.389145374298096\n",
      "Epoch 73: 7.389145374298096\n",
      "Epoch 74: 7.389145374298096\n",
      "Epoch 75: 7.389145374298096\n",
      "Epoch 76: 7.389145374298096\n",
      "Epoch 77: 7.389145374298096\n",
      "Epoch 78: 7.389145374298096\n",
      "Epoch 79: 7.389145374298096\n",
      "Epoch 80: 7.389145374298096\n",
      "Epoch 81: 7.389145374298096\n",
      "Epoch 82: 7.389145374298096\n",
      "Epoch 83: 7.389145374298096\n",
      "Epoch 84: 7.389145374298096\n",
      "Epoch 85: 7.389145374298096\n",
      "Epoch 86: 7.389145374298096\n",
      "Epoch 87: 7.389145374298096\n",
      "Epoch 88: 7.389145374298096\n",
      "Epoch 89: 7.389145374298096\n",
      "Epoch 90: 7.389145374298096\n",
      "Epoch 91: 7.389145374298096\n",
      "Epoch 92: 7.389145374298096\n",
      "Epoch 93: 7.389145374298096\n",
      "Epoch 94: 7.389145374298096\n",
      "Epoch 95: 7.389145374298096\n",
      "Epoch 96: 7.389145374298096\n",
      "Epoch 97: 7.389145374298096\n",
      "Epoch 98: 7.389145374298096\n",
      "Epoch 99: 7.389145374298096\n",
      "Took: 17.843056 seconds\n"
     ]
    }
   ],
   "source": [
    "train(hubber_loss)"
   ]
  },
  {
   "cell_type": "code",
   "execution_count": 17,
   "metadata": {},
   "outputs": [
    {
     "data": {
      "text/plain": [
       "<matplotlib.legend.Legend at 0x21ca9f28978>"
      ]
     },
     "execution_count": 17,
     "metadata": {},
     "output_type": "execute_result"
    },
    {
     "data": {
      "image/png": "[encoded data removed]",
      "text/plain": [
       "<Figure size 432x288 with 1 Axes>"
      ]
     },
     "metadata": {},
     "output_type": "display_data"
    }
   ],
   "source": [
    "plt.plot(data[:, 0], data[:, 1], 'bo')\n",
    "plt.plot(data[:, 0], data[:, 0]*w + b, 'r-', label = 'hubber')\n",
    "plt.legend()\n"
   ]
  }
 ],
 "metadata": {
  "kernelspec": {
   "display_name": "Python [conda env:py36]",
   "language": "python",
   "name": "conda-env-py36-py"
  },
  "language_info": {
   "codemirror_mode": {
    "name": "ipython",
    "version": 3
   },
   "file_extension": ".py",
   "mimetype": "text/x-python",
   "name": "python",
   "nbconvert_exporter": "python",
   "pygments_lexer": "ipython3",
   "version": "3.6.5"
  }
 },
 "nbformat": 4,
 "nbformat_minor": 2
}
